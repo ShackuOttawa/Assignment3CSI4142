{
 "cells": [
  {
   "cell_type": "markdown",
   "metadata": {},
   "source": [
    "# CSI 4142 - Introduction to Data Science\n",
    "# Assignment 3: Predictive analysis Regression and Classification\n",
    "\n",
    "Shacha Parker (300235525)\\\n",
    "Callum Frodsham and (300199446)\\\n",
    "Group 79\n",
    "\n",
    "### Setup Instructions To Reproduce this Data Cleaning Notebook:\n",
    "(Step 1 Optional)\n",
    "1. Create a virtual python environment in the project directory (if you want) for all of the packages required:  \n",
    "``` \n",
    "python -m venv .venv\n",
    "```\n",
    "To enter the virutal environment: \n",
    "```\n",
    ".venv/Scripts/activate.ps1 # on windows\n",
    "source .venv/bin/activate # on mac/linux\n",
    "```\n",
    "2. Download all of the required packages (run in cmd/shell of choice):\n",
    "```\n",
    "pip install jupyter\n",
    "pip install ipykernel\n",
    "pip install pandas\n",
    "pip install numpy\n",
    "```\n",
    "3. VSCode: Ensure you have the correct python kernel selected!\n",
    "<br> \n",
    "If you are using a virtual environment, make sure to select the python interpreter for that virtual environment otherwise this will not work! If you have everything done globally, then just make sure the correct python kernel you are using is selected."
   ]
  },
  {
   "cell_type": "markdown",
   "metadata": {},
   "source": [
    "<h1>Dataset 2: Breast Cancer</h1>\n",
    "<h3>Decision Tree Classification</h3>\n",
    "\n",
    "Author: Reihaneh Namdari\n",
    "<br>\n",
    "Purpose: The purpose of this dataset is to provide population-based cancer statistics on patients with infiltrating duct and lobular carcinoma breast cancer that were diagnosed in 2006-2010. \n",
    "<br>\n",
    "Shape: This dataset is composed of 16 columns, and 4024 rows.\n",
    "<br><br>\n",
    "Link: <a href=\"https://www.kaggle.com/datasets/reihanenamdari/breast-cancer\"> Breast Cancer Dataset</a>\n",
    "<br>\n",
    "Note: This description only includes 12/16 features, as the rest will not be used. \n",
    "<h3>Dataset Feature List: </h3>\n",
    "<ol>\n",
    "    <li>Age:\n",
    "    <br>\n",
    "    Feature Type: Numerical - Discrete\n",
    "    <br>\n",
    "    Description: The age in years of the patient.\n",
    "    </li>\n",
    "    <br>\n",
    "    <li>Race:\n",
    "    <br>\n",
    "    Feature Type: Categorical - Nominal\n",
    "    <br>\n",
    "    Description: The race of patient.\n",
    "        </li>\n",
    "    <br>\n",
    "    <li>Marital Status:\n",
    "    <br>\n",
    "    Feature Type: Categorical - Nominal\n",
    "    <br>\n",
    "    Description: The marital status of the patient.\n",
    "        </li>\n",
    "    <br>\n",
    "    <li>T Stage:\n",
    "    <br>\n",
    "    Feature Type: Categorical - Ordinal\n",
    "    <br>\n",
    "    Description: The T stage refers to the Tumor stage of the TNM staging system that describes the extent of the cancer such as tumor size, and tumor invasion into nearby structures. T1-T3 in increasing severity. \n",
    "        </li>\n",
    "    <br>\n",
    "    <li>N Stage:\n",
    "    <br>\n",
    "    Feature Type: Categorical - Ordinal\n",
    "    <br>\n",
    "    Description: N Stage refers to the Node stage of the TNM staging system that describes whether the cancer has spread to other nearby lymph nodes, with N1-N3 increasing in severity.\n",
    "        </li>\n",
    "    <br>\n",
    "    <li>6th Stage:\n",
    "    <br>\n",
    "    Feature Type: Categorical - Ordinal\n",
    "    <br>\n",
    "    Description: Refers to the Breast Adjusted AJCC 6th Stage variables describing the extent of the disease (EOD), and the collaborative stage (CS). \n",
    "        </li>\n",
    "    <br>\n",
    "    <li>Differentiate:\n",
    "    <br>\n",
    "    Feature Type: Categorial - Ordinal\n",
    "    <br>\n",
    "    Description: Refers to how closely the cancer cells resemble the breast cells.\n",
    "        </li>\n",
    "    <br>\n",
    "    <li>Grade:\n",
    "    <br>\n",
    "    Feature Type: Categorical - Ordinal\n",
    "    <br>\n",
    "    Description: The 4 grades, 1, 2, 3 and anaplastic Grade 4 describe the histologic grade of the cancer cells.\n",
    "        </li>\n",
    "    <br>\n",
    "    <li>A Stage:\n",
    "    <br>\n",
    "    Feature Type: Categorical - Nominal\n",
    "    <br>\n",
    "    Description: Two categories, distant and regional. Distant means that the tumor has spread/metastasized to far away organs/regions from the original site. Regional implies that that the tumor has extended in areas close to the original site. \n",
    "        </li>\n",
    "    <br>\n",
    "    <li>Tumor Size:\n",
    "    <br>\n",
    "    Feature Type: Numerical - Continuous\n",
    "    <br>\n",
    "    Description: The size of the tumor in exact millimeters.\n",
    "        </li>\n",
    "    <br>\n",
    "    <li>Survival Months:\n",
    "    <br>\n",
    "    Feature Type: Numerical - Continuous\n",
    "    <br>\n",
    "    Description: The length of time in months until the patients death or their last follow up.\n",
    "        </li>\n",
    "    <br>\n",
    "    <li>Status:\n",
    "    <br>\n",
    "    Feature Type: Categorical - Nominal\n",
    "    <br>\n",
    "    Description: The status of the patient at their last follow up, with two categories, dead or alive.\n",
    "        </li>\n",
    "</ol>"
   ]
  },
  {
   "cell_type": "code",
   "execution_count": null,
   "metadata": {},
   "outputs": [],
   "source": [
    "# Initial Imports:\n",
    "import numpy as np\n",
    "import pandas as pd\n",
    "from catboost import CatBoostClassifier, Pool\n",
    "import seaborn as sns\n",
    "import matplotlib.pyplot as plt\n",
    "from matplotlib.pyplot import colormaps\n",
    "\n",
    "# Then load the dataset\n",
    "dataset = pd.read_csv(\"Breast_Cancer.csv\")\n",
    "\n",
    "# a list of excluded features to prevent the scope of this assignment from creeping. \n",
    "excluded_columns = ['Estrogen Status', 'Progesterone Status', 'Regional Node Examined', 'Reginol Node Positive']\n",
    "dataset = dataset.drop(columns=excluded_columns)"
   ]
  },
  {
   "cell_type": "markdown",
   "metadata": {},
   "source": [
    "## Data Cleaning\n",
    "The Data Cleaning step will identify whether the dataset has any incorrect or missing values."
   ]
  },
  {
   "cell_type": "code",
   "execution_count": null,
   "metadata": {},
   "outputs": [],
   "source": [
    "# Display information about the dataframe\n",
    "print(dataset.info())\n",
    "\n",
    "# Describe the dataframe\n",
    "print(dataset.describe())\n",
    "\n",
    "# Check for missing values\n",
    "missing_values = dataset.isnull().sum()\n",
    "print(\"Missing values in each column:\\n\", missing_values)\n"
   ]
  },
  {
   "cell_type": "markdown",
   "metadata": {},
   "source": [
    "As can be seen from the data above, the data contains no null values, and each feature has the correct value types."
   ]
  },
  {
   "cell_type": "code",
   "execution_count": null,
   "metadata": {},
   "outputs": [],
   "source": [
    "# Checking for correct value range for each categorical feature:\n",
    "categorical_columns = dataset.select_dtypes(include=['object']).columns\n",
    "for column in categorical_columns:\n",
    "    print(f\"\\nUnique values in column '{column}':\\n\", dataset[column].unique())"
   ]
  },
  {
   "cell_type": "markdown",
   "metadata": {},
   "source": [
    "As can be seen from the data above, each categorical feature has the values and there are no incorrect or missing values. Therefore it can be ascertained that the dataset is \"clean\"."
   ]
  },
  {
   "cell_type": "markdown",
   "metadata": {},
   "source": [
    "## EDA and Outlier detection\n"
   ]
  },
  {
   "cell_type": "markdown",
   "metadata": {},
   "source": [
    "### Categorical Feature Exploration:"
   ]
  },
  {
   "cell_type": "code",
   "execution_count": null,
   "metadata": {},
   "outputs": [],
   "source": [
    "# Creating visualizations from the categorical columns:\n",
    "color_list = list(colormaps)\n",
    "count = 0;\n",
    "for column in categorical_columns:\n",
    "    plt.figure(figsize=(10, 6))\n",
    "    graph = sns.countplot(data=dataset, x=column, hue=column, palette=color_list[count])\n",
    "    print(color_list[count])\n",
    "    count += 3\n",
    "    for bar in graph.containers:\n",
    "        graph.bar_label(bar)\n",
    "    plt.title(column.title())\n",
    "    plt.show()\n",
    "\n"
   ]
  },
  {
   "cell_type": "markdown",
   "metadata": {},
   "source": [
    "#### Handling Outliers for Categorical Features:"
   ]
  },
  {
   "cell_type": "markdown",
   "metadata": {},
   "source": [
    "### EDA of Numerical Features:"
   ]
  },
  {
   "cell_type": "code",
   "execution_count": null,
   "metadata": {},
   "outputs": [],
   "source": [
    "# get all of the numerical columns\n",
    "numerical_data = dataset.select_dtypes(include=['int64'])\n",
    "\n",
    "colors = [\"blue\", \"orange\", \"pink\"]\n",
    "# create a histplot of all of the values.\n",
    "count = 0\n",
    "for column in numerical_data.columns:\n",
    "    graph = sns.boxplot(data=dataset, x = column, color=colors[count])\n",
    "    count += 1\n",
    "    plt.title(column.title())\n",
    "    plt.show()"
   ]
  },
  {
   "cell_type": "markdown",
   "metadata": {},
   "source": [
    "#### Numerical Outlier Breakdown:\n",
    " "
   ]
  }
 ],
 "metadata": {
  "kernelspec": {
   "display_name": ".venv",
   "language": "python",
   "name": "python3"
  },
  "language_info": {
   "codemirror_mode": {
    "name": "ipython",
    "version": 3
   },
   "file_extension": ".py",
   "mimetype": "text/x-python",
   "name": "python",
   "nbconvert_exporter": "python",
   "pygments_lexer": "ipython3",
   "version": "3.12.4"
  }
 },
 "nbformat": 4,
 "nbformat_minor": 2
}
